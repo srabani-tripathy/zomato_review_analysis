{
 "cells": [
  {
   "cell_type": "markdown",
   "metadata": {
    "id": "iIDXUkMElkDd"
   },
   "source": [
    "# Data Preprocessing"
   ]
  },
  {
   "cell_type": "markdown",
   "metadata": {
    "id": "Hj40LjUilpix"
   },
   "source": [
    "## Importing the libraries"
   ]
  },
  {
   "cell_type": "code",
   "execution_count": 1,
   "metadata": {
    "executionInfo": {
     "elapsed": 1017,
     "status": "ok",
     "timestamp": 1611300375169,
     "user": {
      "displayName": "Atulya Kaushik",
      "photoUrl": "https://lh3.googleusercontent.com/a-/AOh14GgbdwwtUpDI6_ZCGNIh_WpVOrowFtjkOnV0PDGRUWfnsvK4VOwoMydLWUomfyM93wzmkYH2oqgNx5NSLSqCwoa5HZ_KxBpxL8GxQN8uRRDtlp3SF7wcGYbFZFH_-wGv0M1O2KeXvqvdFVMbO6RtG-EVC107IWjfYnisZUkM8Ja7dYlgfg4vGCuvxwSpOugEk-_tMkYzsphay8tNHrgG3yrTaxohPhYsZbAYi0JYfNJnfnJYtEefnN4DdpWwdMTR43XXEBkaNd2LOQ028uNa_dzM7_uFvPdiDJR7PXxt-BCtPa8KomMuLBFrxIZKJqikEr2mcXIK48msRSqnv4NsCFrkm5g7s_Sge09Qq5EbIJAVAlOygWUQ0rMQIi9PF-V5XchFYE7NxNmbEEWkHF2jj0zT_kMkV88DczewQCR-WVi0n_305dr7FNXptxwcp7Nc6FBrRIG33V_jElFZ9O7HrCG67QwhPeYVes0O0e48_eWU6XRxbkezYrcKRLDy047B0SHj1Ng96rQxd_YKoFAAgRqMCNunHXMQHQ5OKQv8uF8GnQ7llWSeYGkR14TPX3tWV5Qxy0fsbd3nhuKIvQe69YToY7HH5zp3JHSFbFvzCqvlDe-d2oOp0QPzN0ox3WYd1tJS6GyQ-r161Rq-5kA3Vusn7LzIL1hFwlRAfxH3j9uaHg4INCKONjhLm5c_IS-Pi64UL_tjiJM36PrtNUaQcS8-6y6qtDblN_Zg0r79t3D6gZ6OybTyIR8lOupyUc1BJIe4Eg=s64",
      "userId": "16390917540151948122"
     },
     "user_tz": -330
    },
    "id": "cRg-5igLuoiI"
   },
   "outputs": [],
   "source": [
    "import numpy as np\n",
    "import matplotlib.pyplot as plt\n",
    "import pandas as pd"
   ]
  },
  {
   "cell_type": "markdown",
   "metadata": {
    "id": "zApSnwUkl9eD"
   },
   "source": [
    "## Importing Dataset"
   ]
  },
  {
   "cell_type": "code",
   "execution_count": 2,
   "metadata": {
    "executionInfo": {
     "elapsed": 1033,
     "status": "ok",
     "timestamp": 1611300378204,
     "user": {
      "displayName": "Atulya Kaushik",
      "photoUrl": "https://lh3.googleusercontent.com/a-/AOh14GgbdwwtUpDI6_ZCGNIh_WpVOrowFtjkOnV0PDGRUWfnsvK4VOwoMydLWUomfyM93wzmkYH2oqgNx5NSLSqCwoa5HZ_KxBpxL8GxQN8uRRDtlp3SF7wcGYbFZFH_-wGv0M1O2KeXvqvdFVMbO6RtG-EVC107IWjfYnisZUkM8Ja7dYlgfg4vGCuvxwSpOugEk-_tMkYzsphay8tNHrgG3yrTaxohPhYsZbAYi0JYfNJnfnJYtEefnN4DdpWwdMTR43XXEBkaNd2LOQ028uNa_dzM7_uFvPdiDJR7PXxt-BCtPa8KomMuLBFrxIZKJqikEr2mcXIK48msRSqnv4NsCFrkm5g7s_Sge09Qq5EbIJAVAlOygWUQ0rMQIi9PF-V5XchFYE7NxNmbEEWkHF2jj0zT_kMkV88DczewQCR-WVi0n_305dr7FNXptxwcp7Nc6FBrRIG33V_jElFZ9O7HrCG67QwhPeYVes0O0e48_eWU6XRxbkezYrcKRLDy047B0SHj1Ng96rQxd_YKoFAAgRqMCNunHXMQHQ5OKQv8uF8GnQ7llWSeYGkR14TPX3tWV5Qxy0fsbd3nhuKIvQe69YToY7HH5zp3JHSFbFvzCqvlDe-d2oOp0QPzN0ox3WYd1tJS6GyQ-r161Rq-5kA3Vusn7LzIL1hFwlRAfxH3j9uaHg4INCKONjhLm5c_IS-Pi64UL_tjiJM36PrtNUaQcS8-6y6qtDblN_Zg0r79t3D6gZ6OybTyIR8lOupyUc1BJIe4Eg=s64",
      "userId": "16390917540151948122"
     },
     "user_tz": -330
    },
    "id": "mjAi2fGLvGvK"
   },
   "outputs": [],
   "source": [
    "data_set = pd.read_csv('data/zomato_reviews.csv')\n",
    "X = data_set.iloc[:, :-1].values\n",
    "y = data_set.iloc[:, -1].values"
   ]
  },
  {
   "cell_type": "code",
   "execution_count": 3,
   "metadata": {
    "colab": {
     "base_uri": "https://localhost:8080/"
    },
    "executionInfo": {
     "elapsed": 1020,
     "status": "ok",
     "timestamp": 1611300380138,
     "user": {
      "displayName": "Atulya Kaushik",
      "photoUrl": "https://lh3.googleusercontent.com/a-/AOh14GgbdwwtUpDI6_ZCGNIh_WpVOrowFtjkOnV0PDGRUWfnsvK4VOwoMydLWUomfyM93wzmkYH2oqgNx5NSLSqCwoa5HZ_KxBpxL8GxQN8uRRDtlp3SF7wcGYbFZFH_-wGv0M1O2KeXvqvdFVMbO6RtG-EVC107IWjfYnisZUkM8Ja7dYlgfg4vGCuvxwSpOugEk-_tMkYzsphay8tNHrgG3yrTaxohPhYsZbAYi0JYfNJnfnJYtEefnN4DdpWwdMTR43XXEBkaNd2LOQ028uNa_dzM7_uFvPdiDJR7PXxt-BCtPa8KomMuLBFrxIZKJqikEr2mcXIK48msRSqnv4NsCFrkm5g7s_Sge09Qq5EbIJAVAlOygWUQ0rMQIi9PF-V5XchFYE7NxNmbEEWkHF2jj0zT_kMkV88DczewQCR-WVi0n_305dr7FNXptxwcp7Nc6FBrRIG33V_jElFZ9O7HrCG67QwhPeYVes0O0e48_eWU6XRxbkezYrcKRLDy047B0SHj1Ng96rQxd_YKoFAAgRqMCNunHXMQHQ5OKQv8uF8GnQ7llWSeYGkR14TPX3tWV5Qxy0fsbd3nhuKIvQe69YToY7HH5zp3JHSFbFvzCqvlDe-d2oOp0QPzN0ox3WYd1tJS6GyQ-r161Rq-5kA3Vusn7LzIL1hFwlRAfxH3j9uaHg4INCKONjhLm5c_IS-Pi64UL_tjiJM36PrtNUaQcS8-6y6qtDblN_Zg0r79t3D6gZ6OybTyIR8lOupyUc1BJIe4Eg=s64",
      "userId": "16390917540151948122"
     },
     "user_tz": -330
    },
    "id": "mzP3JFLXwfG3",
    "outputId": "3f7fe94e-0bb3-48f8-d426-9acae97b3ca5"
   },
   "outputs": [
    {
     "name": "stdout",
     "output_type": "stream",
     "text": [
      "[[   0    5]\n",
      " [   1    5]\n",
      " [   2    4]\n",
      " ...\n",
      " [5476    5]\n",
      " [5477    1]\n",
      " [5478    1]]\n"
     ]
    }
   ],
   "source": [
    "print(X)"
   ]
  },
  {
   "cell_type": "code",
   "execution_count": 4,
   "metadata": {
    "colab": {
     "base_uri": "https://localhost:8080/"
    },
    "executionInfo": {
     "elapsed": 985,
     "status": "ok",
     "timestamp": 1611300383793,
     "user": {
      "displayName": "Atulya Kaushik",
      "photoUrl": "https://lh3.googleusercontent.com/a-/AOh14GgbdwwtUpDI6_ZCGNIh_WpVOrowFtjkOnV0PDGRUWfnsvK4VOwoMydLWUomfyM93wzmkYH2oqgNx5NSLSqCwoa5HZ_KxBpxL8GxQN8uRRDtlp3SF7wcGYbFZFH_-wGv0M1O2KeXvqvdFVMbO6RtG-EVC107IWjfYnisZUkM8Ja7dYlgfg4vGCuvxwSpOugEk-_tMkYzsphay8tNHrgG3yrTaxohPhYsZbAYi0JYfNJnfnJYtEefnN4DdpWwdMTR43XXEBkaNd2LOQ028uNa_dzM7_uFvPdiDJR7PXxt-BCtPa8KomMuLBFrxIZKJqikEr2mcXIK48msRSqnv4NsCFrkm5g7s_Sge09Qq5EbIJAVAlOygWUQ0rMQIi9PF-V5XchFYE7NxNmbEEWkHF2jj0zT_kMkV88DczewQCR-WVi0n_305dr7FNXptxwcp7Nc6FBrRIG33V_jElFZ9O7HrCG67QwhPeYVes0O0e48_eWU6XRxbkezYrcKRLDy047B0SHj1Ng96rQxd_YKoFAAgRqMCNunHXMQHQ5OKQv8uF8GnQ7llWSeYGkR14TPX3tWV5Qxy0fsbd3nhuKIvQe69YToY7HH5zp3JHSFbFvzCqvlDe-d2oOp0QPzN0ox3WYd1tJS6GyQ-r161Rq-5kA3Vusn7LzIL1hFwlRAfxH3j9uaHg4INCKONjhLm5c_IS-Pi64UL_tjiJM36PrtNUaQcS8-6y6qtDblN_Zg0r79t3D6gZ6OybTyIR8lOupyUc1BJIe4Eg=s64",
      "userId": "16390917540151948122"
     },
     "user_tz": -330
    },
    "id": "npkmWMlOwhC-",
    "outputId": "b82eb402-5fdd-422c-e7f5-081a83505097"
   },
   "outputs": [
    {
     "name": "stdout",
     "output_type": "stream",
     "text": [
      "['nice'\n",
      " 'best biryani , so supportive staff of outlet , personalize my order on call as I say. full Paisa vasool '\n",
      " 'delivery boy was very decent and supportive.👌👍' ...\n",
      " 'took for an hour to prepare 3 khawsa, which in real life gets prepared in 5 mins, because its just a morning snack soup. '\n",
      " 'very very late, littrally did time pass and items not proper'\n",
      " 'Taste was stale and they give only 5 pieces in 50 Rs. Please do not cheat the online customers.']\n"
     ]
    }
   ],
   "source": [
    "print(y)"
   ]
  },
  {
   "cell_type": "markdown",
   "metadata": {
    "id": "XaG0s7WjmgPU"
   },
   "source": [
    "\n",
    "\n",
    "\n",
    "## Handling Missing Data"
   ]
  },
  {
   "cell_type": "code",
   "execution_count": 5,
   "metadata": {
    "executionInfo": {
     "elapsed": 1009,
     "status": "ok",
     "timestamp": 1611300395471,
     "user": {
      "displayName": "Atulya Kaushik",
      "photoUrl": "https://lh3.googleusercontent.com/a-/AOh14GgbdwwtUpDI6_ZCGNIh_WpVOrowFtjkOnV0PDGRUWfnsvK4VOwoMydLWUomfyM93wzmkYH2oqgNx5NSLSqCwoa5HZ_KxBpxL8GxQN8uRRDtlp3SF7wcGYbFZFH_-wGv0M1O2KeXvqvdFVMbO6RtG-EVC107IWjfYnisZUkM8Ja7dYlgfg4vGCuvxwSpOugEk-_tMkYzsphay8tNHrgG3yrTaxohPhYsZbAYi0JYfNJnfnJYtEefnN4DdpWwdMTR43XXEBkaNd2LOQ028uNa_dzM7_uFvPdiDJR7PXxt-BCtPa8KomMuLBFrxIZKJqikEr2mcXIK48msRSqnv4NsCFrkm5g7s_Sge09Qq5EbIJAVAlOygWUQ0rMQIi9PF-V5XchFYE7NxNmbEEWkHF2jj0zT_kMkV88DczewQCR-WVi0n_305dr7FNXptxwcp7Nc6FBrRIG33V_jElFZ9O7HrCG67QwhPeYVes0O0e48_eWU6XRxbkezYrcKRLDy047B0SHj1Ng96rQxd_YKoFAAgRqMCNunHXMQHQ5OKQv8uF8GnQ7llWSeYGkR14TPX3tWV5Qxy0fsbd3nhuKIvQe69YToY7HH5zp3JHSFbFvzCqvlDe-d2oOp0QPzN0ox3WYd1tJS6GyQ-r161Rq-5kA3Vusn7LzIL1hFwlRAfxH3j9uaHg4INCKONjhLm5c_IS-Pi64UL_tjiJM36PrtNUaQcS8-6y6qtDblN_Zg0r79t3D6gZ6OybTyIR8lOupyUc1BJIe4Eg=s64",
      "userId": "16390917540151948122"
     },
     "user_tz": -330
    },
    "id": "hrao100Bx0GF"
   },
   "outputs": [],
   "source": [
    "from sklearn.impute import SimpleImputer\n",
    "imputer = SimpleImputer(missing_values = np.nan, strategy = 'mean')\n",
    "\n",
    "imputer.fit(X[:, 0:1])\n",
    "X[: , 0:1] = imputer.transform(X[:, 0:1])"
   ]
  },
  {
   "cell_type": "code",
   "execution_count": 6,
   "metadata": {
    "colab": {
     "base_uri": "https://localhost:8080/"
    },
    "executionInfo": {
     "elapsed": 1030,
     "status": "ok",
     "timestamp": 1611299568237,
     "user": {
      "displayName": "Atulya Kaushik",
      "photoUrl": "https://lh3.googleusercontent.com/a-/AOh14GgbdwwtUpDI6_ZCGNIh_WpVOrowFtjkOnV0PDGRUWfnsvK4VOwoMydLWUomfyM93wzmkYH2oqgNx5NSLSqCwoa5HZ_KxBpxL8GxQN8uRRDtlp3SF7wcGYbFZFH_-wGv0M1O2KeXvqvdFVMbO6RtG-EVC107IWjfYnisZUkM8Ja7dYlgfg4vGCuvxwSpOugEk-_tMkYzsphay8tNHrgG3yrTaxohPhYsZbAYi0JYfNJnfnJYtEefnN4DdpWwdMTR43XXEBkaNd2LOQ028uNa_dzM7_uFvPdiDJR7PXxt-BCtPa8KomMuLBFrxIZKJqikEr2mcXIK48msRSqnv4NsCFrkm5g7s_Sge09Qq5EbIJAVAlOygWUQ0rMQIi9PF-V5XchFYE7NxNmbEEWkHF2jj0zT_kMkV88DczewQCR-WVi0n_305dr7FNXptxwcp7Nc6FBrRIG33V_jElFZ9O7HrCG67QwhPeYVes0O0e48_eWU6XRxbkezYrcKRLDy047B0SHj1Ng96rQxd_YKoFAAgRqMCNunHXMQHQ5OKQv8uF8GnQ7llWSeYGkR14TPX3tWV5Qxy0fsbd3nhuKIvQe69YToY7HH5zp3JHSFbFvzCqvlDe-d2oOp0QPzN0ox3WYd1tJS6GyQ-r161Rq-5kA3Vusn7LzIL1hFwlRAfxH3j9uaHg4INCKONjhLm5c_IS-Pi64UL_tjiJM36PrtNUaQcS8-6y6qtDblN_Zg0r79t3D6gZ6OybTyIR8lOupyUc1BJIe4Eg=s64",
      "userId": "16390917540151948122"
     },
     "user_tz": -330
    },
    "id": "sAXCmpU_zqiO",
    "outputId": "74ad8cae-8daa-4a96-a33c-f4042e06b86c"
   },
   "outputs": [
    {
     "name": "stdout",
     "output_type": "stream",
     "text": [
      "[[   0    5]\n",
      " [   1    5]\n",
      " [   2    4]\n",
      " ...\n",
      " [5476    5]\n",
      " [5477    1]\n",
      " [5478    1]]\n"
     ]
    }
   ],
   "source": [
    "print(X)"
   ]
  },
  {
   "cell_type": "code",
   "execution_count": 7,
   "metadata": {
    "colab": {
     "base_uri": "https://localhost:8080/"
    },
    "executionInfo": {
     "elapsed": 1202,
     "status": "ok",
     "timestamp": 1611300405933,
     "user": {
      "displayName": "Atulya Kaushik",
      "photoUrl": "https://lh3.googleusercontent.com/a-/AOh14GgbdwwtUpDI6_ZCGNIh_WpVOrowFtjkOnV0PDGRUWfnsvK4VOwoMydLWUomfyM93wzmkYH2oqgNx5NSLSqCwoa5HZ_KxBpxL8GxQN8uRRDtlp3SF7wcGYbFZFH_-wGv0M1O2KeXvqvdFVMbO6RtG-EVC107IWjfYnisZUkM8Ja7dYlgfg4vGCuvxwSpOugEk-_tMkYzsphay8tNHrgG3yrTaxohPhYsZbAYi0JYfNJnfnJYtEefnN4DdpWwdMTR43XXEBkaNd2LOQ028uNa_dzM7_uFvPdiDJR7PXxt-BCtPa8KomMuLBFrxIZKJqikEr2mcXIK48msRSqnv4NsCFrkm5g7s_Sge09Qq5EbIJAVAlOygWUQ0rMQIi9PF-V5XchFYE7NxNmbEEWkHF2jj0zT_kMkV88DczewQCR-WVi0n_305dr7FNXptxwcp7Nc6FBrRIG33V_jElFZ9O7HrCG67QwhPeYVes0O0e48_eWU6XRxbkezYrcKRLDy047B0SHj1Ng96rQxd_YKoFAAgRqMCNunHXMQHQ5OKQv8uF8GnQ7llWSeYGkR14TPX3tWV5Qxy0fsbd3nhuKIvQe69YToY7HH5zp3JHSFbFvzCqvlDe-d2oOp0QPzN0ox3WYd1tJS6GyQ-r161Rq-5kA3Vusn7LzIL1hFwlRAfxH3j9uaHg4INCKONjhLm5c_IS-Pi64UL_tjiJM36PrtNUaQcS8-6y6qtDblN_Zg0r79t3D6gZ6OybTyIR8lOupyUc1BJIe4Eg=s64",
      "userId": "16390917540151948122"
     },
     "user_tz": -330
    },
    "id": "qZ31gjqzz9FC",
    "outputId": "3a03292e-d845-4009-8ccd-814bdd33bfe3"
   },
   "outputs": [
    {
     "name": "stdout",
     "output_type": "stream",
     "text": [
      "[[   0    5]\n",
      " [   1    5]\n",
      " [   2    4]\n",
      " ...\n",
      " [5476    5]\n",
      " [5477    1]\n",
      " [5478    1]]\n"
     ]
    }
   ],
   "source": [
    "print(X)"
   ]
  },
  {
   "cell_type": "markdown",
   "metadata": {
    "id": "o0syRbsSmkoe"
   },
   "source": [
    "## Encoding Categorical Data"
   ]
  },
  {
   "cell_type": "markdown",
   "metadata": {
    "id": "alHfpomamsVr"
   },
   "source": [
    "### Encoding independent variables"
   ]
  },
  {
   "cell_type": "code",
   "execution_count": 8,
   "metadata": {
    "executionInfo": {
     "elapsed": 1046,
     "status": "ok",
     "timestamp": 1611300409322,
     "user": {
      "displayName": "Atulya Kaushik",
      "photoUrl": "https://lh3.googleusercontent.com/a-/AOh14GgbdwwtUpDI6_ZCGNIh_WpVOrowFtjkOnV0PDGRUWfnsvK4VOwoMydLWUomfyM93wzmkYH2oqgNx5NSLSqCwoa5HZ_KxBpxL8GxQN8uRRDtlp3SF7wcGYbFZFH_-wGv0M1O2KeXvqvdFVMbO6RtG-EVC107IWjfYnisZUkM8Ja7dYlgfg4vGCuvxwSpOugEk-_tMkYzsphay8tNHrgG3yrTaxohPhYsZbAYi0JYfNJnfnJYtEefnN4DdpWwdMTR43XXEBkaNd2LOQ028uNa_dzM7_uFvPdiDJR7PXxt-BCtPa8KomMuLBFrxIZKJqikEr2mcXIK48msRSqnv4NsCFrkm5g7s_Sge09Qq5EbIJAVAlOygWUQ0rMQIi9PF-V5XchFYE7NxNmbEEWkHF2jj0zT_kMkV88DczewQCR-WVi0n_305dr7FNXptxwcp7Nc6FBrRIG33V_jElFZ9O7HrCG67QwhPeYVes0O0e48_eWU6XRxbkezYrcKRLDy047B0SHj1Ng96rQxd_YKoFAAgRqMCNunHXMQHQ5OKQv8uF8GnQ7llWSeYGkR14TPX3tWV5Qxy0fsbd3nhuKIvQe69YToY7HH5zp3JHSFbFvzCqvlDe-d2oOp0QPzN0ox3WYd1tJS6GyQ-r161Rq-5kA3Vusn7LzIL1hFwlRAfxH3j9uaHg4INCKONjhLm5c_IS-Pi64UL_tjiJM36PrtNUaQcS8-6y6qtDblN_Zg0r79t3D6gZ6OybTyIR8lOupyUc1BJIe4Eg=s64",
      "userId": "16390917540151948122"
     },
     "user_tz": -330
    },
    "id": "CbMLV_pC-RvL"
   },
   "outputs": [],
   "source": [
    "from sklearn.compose import ColumnTransformer\n",
    "from sklearn.preprocessing import OneHotEncoder"
   ]
  },
  {
   "cell_type": "code",
   "execution_count": 9,
   "metadata": {
    "executionInfo": {
     "elapsed": 741,
     "status": "ok",
     "timestamp": 1611300411198,
     "user": {
      "displayName": "Atulya Kaushik",
      "photoUrl": "https://lh3.googleusercontent.com/a-/AOh14GgbdwwtUpDI6_ZCGNIh_WpVOrowFtjkOnV0PDGRUWfnsvK4VOwoMydLWUomfyM93wzmkYH2oqgNx5NSLSqCwoa5HZ_KxBpxL8GxQN8uRRDtlp3SF7wcGYbFZFH_-wGv0M1O2KeXvqvdFVMbO6RtG-EVC107IWjfYnisZUkM8Ja7dYlgfg4vGCuvxwSpOugEk-_tMkYzsphay8tNHrgG3yrTaxohPhYsZbAYi0JYfNJnfnJYtEefnN4DdpWwdMTR43XXEBkaNd2LOQ028uNa_dzM7_uFvPdiDJR7PXxt-BCtPa8KomMuLBFrxIZKJqikEr2mcXIK48msRSqnv4NsCFrkm5g7s_Sge09Qq5EbIJAVAlOygWUQ0rMQIi9PF-V5XchFYE7NxNmbEEWkHF2jj0zT_kMkV88DczewQCR-WVi0n_305dr7FNXptxwcp7Nc6FBrRIG33V_jElFZ9O7HrCG67QwhPeYVes0O0e48_eWU6XRxbkezYrcKRLDy047B0SHj1Ng96rQxd_YKoFAAgRqMCNunHXMQHQ5OKQv8uF8GnQ7llWSeYGkR14TPX3tWV5Qxy0fsbd3nhuKIvQe69YToY7HH5zp3JHSFbFvzCqvlDe-d2oOp0QPzN0ox3WYd1tJS6GyQ-r161Rq-5kA3Vusn7LzIL1hFwlRAfxH3j9uaHg4INCKONjhLm5c_IS-Pi64UL_tjiJM36PrtNUaQcS8-6y6qtDblN_Zg0r79t3D6gZ6OybTyIR8lOupyUc1BJIe4Eg=s64",
      "userId": "16390917540151948122"
     },
     "user_tz": -330
    },
    "id": "4_t-rf29-dSP"
   },
   "outputs": [],
   "source": [
    "ct = ColumnTransformer(transformers=[('encoder',OneHotEncoder(), [1])], remainder= 'passthrough')\n",
    "X = np.array(ct.fit_transform(X))"
   ]
  },
  {
   "cell_type": "code",
   "execution_count": 10,
   "metadata": {
    "colab": {
     "base_uri": "https://localhost:8080/"
    },
    "executionInfo": {
     "elapsed": 718,
     "status": "ok",
     "timestamp": 1611300412995,
     "user": {
      "displayName": "Atulya Kaushik",
      "photoUrl": "https://lh3.googleusercontent.com/a-/AOh14GgbdwwtUpDI6_ZCGNIh_WpVOrowFtjkOnV0PDGRUWfnsvK4VOwoMydLWUomfyM93wzmkYH2oqgNx5NSLSqCwoa5HZ_KxBpxL8GxQN8uRRDtlp3SF7wcGYbFZFH_-wGv0M1O2KeXvqvdFVMbO6RtG-EVC107IWjfYnisZUkM8Ja7dYlgfg4vGCuvxwSpOugEk-_tMkYzsphay8tNHrgG3yrTaxohPhYsZbAYi0JYfNJnfnJYtEefnN4DdpWwdMTR43XXEBkaNd2LOQ028uNa_dzM7_uFvPdiDJR7PXxt-BCtPa8KomMuLBFrxIZKJqikEr2mcXIK48msRSqnv4NsCFrkm5g7s_Sge09Qq5EbIJAVAlOygWUQ0rMQIi9PF-V5XchFYE7NxNmbEEWkHF2jj0zT_kMkV88DczewQCR-WVi0n_305dr7FNXptxwcp7Nc6FBrRIG33V_jElFZ9O7HrCG67QwhPeYVes0O0e48_eWU6XRxbkezYrcKRLDy047B0SHj1Ng96rQxd_YKoFAAgRqMCNunHXMQHQ5OKQv8uF8GnQ7llWSeYGkR14TPX3tWV5Qxy0fsbd3nhuKIvQe69YToY7HH5zp3JHSFbFvzCqvlDe-d2oOp0QPzN0ox3WYd1tJS6GyQ-r161Rq-5kA3Vusn7LzIL1hFwlRAfxH3j9uaHg4INCKONjhLm5c_IS-Pi64UL_tjiJM36PrtNUaQcS8-6y6qtDblN_Zg0r79t3D6gZ6OybTyIR8lOupyUc1BJIe4Eg=s64",
      "userId": "16390917540151948122"
     },
     "user_tz": -330
    },
    "id": "buoXf8Z0_FhM",
    "outputId": "44e75a5d-8dcd-46c4-d530-3152c9ccb2d6"
   },
   "outputs": [
    {
     "name": "stdout",
     "output_type": "stream",
     "text": [
      "[[0.000e+00 0.000e+00 0.000e+00 0.000e+00 1.000e+00 0.000e+00]\n",
      " [0.000e+00 0.000e+00 0.000e+00 0.000e+00 1.000e+00 1.000e+00]\n",
      " [0.000e+00 0.000e+00 0.000e+00 1.000e+00 0.000e+00 2.000e+00]\n",
      " ...\n",
      " [0.000e+00 0.000e+00 0.000e+00 0.000e+00 1.000e+00 5.476e+03]\n",
      " [1.000e+00 0.000e+00 0.000e+00 0.000e+00 0.000e+00 5.477e+03]\n",
      " [1.000e+00 0.000e+00 0.000e+00 0.000e+00 0.000e+00 5.478e+03]]\n"
     ]
    }
   ],
   "source": [
    "print(X)"
   ]
  },
  {
   "cell_type": "markdown",
   "metadata": {
    "id": "VEJCi9Fgmz-n"
   },
   "source": [
    "### Encoding dependent variables"
   ]
  },
  {
   "cell_type": "code",
   "execution_count": 11,
   "metadata": {
    "executionInfo": {
     "elapsed": 1070,
     "status": "ok",
     "timestamp": 1611301053116,
     "user": {
      "displayName": "Atulya Kaushik",
      "photoUrl": "https://lh3.googleusercontent.com/a-/AOh14GgbdwwtUpDI6_ZCGNIh_WpVOrowFtjkOnV0PDGRUWfnsvK4VOwoMydLWUomfyM93wzmkYH2oqgNx5NSLSqCwoa5HZ_KxBpxL8GxQN8uRRDtlp3SF7wcGYbFZFH_-wGv0M1O2KeXvqvdFVMbO6RtG-EVC107IWjfYnisZUkM8Ja7dYlgfg4vGCuvxwSpOugEk-_tMkYzsphay8tNHrgG3yrTaxohPhYsZbAYi0JYfNJnfnJYtEefnN4DdpWwdMTR43XXEBkaNd2LOQ028uNa_dzM7_uFvPdiDJR7PXxt-BCtPa8KomMuLBFrxIZKJqikEr2mcXIK48msRSqnv4NsCFrkm5g7s_Sge09Qq5EbIJAVAlOygWUQ0rMQIi9PF-V5XchFYE7NxNmbEEWkHF2jj0zT_kMkV88DczewQCR-WVi0n_305dr7FNXptxwcp7Nc6FBrRIG33V_jElFZ9O7HrCG67QwhPeYVes0O0e48_eWU6XRxbkezYrcKRLDy047B0SHj1Ng96rQxd_YKoFAAgRqMCNunHXMQHQ5OKQv8uF8GnQ7llWSeYGkR14TPX3tWV5Qxy0fsbd3nhuKIvQe69YToY7HH5zp3JHSFbFvzCqvlDe-d2oOp0QPzN0ox3WYd1tJS6GyQ-r161Rq-5kA3Vusn7LzIL1hFwlRAfxH3j9uaHg4INCKONjhLm5c_IS-Pi64UL_tjiJM36PrtNUaQcS8-6y6qtDblN_Zg0r79t3D6gZ6OybTyIR8lOupyUc1BJIe4Eg=s64",
      "userId": "16390917540151948122"
     },
     "user_tz": -330
    },
    "id": "FEYOn3J3Bcw4"
   },
   "outputs": [],
   "source": [
    "from sklearn.preprocessing import LabelEncoder\n",
    "le = LabelEncoder()\n",
    "y = le.fit_transform(y)"
   ]
  },
  {
   "cell_type": "code",
   "execution_count": 12,
   "metadata": {
    "colab": {
     "base_uri": "https://localhost:8080/"
    },
    "executionInfo": {
     "elapsed": 1052,
     "status": "ok",
     "timestamp": 1611301060124,
     "user": {
      "displayName": "Atulya Kaushik",
      "photoUrl": "https://lh3.googleusercontent.com/a-/AOh14GgbdwwtUpDI6_ZCGNIh_WpVOrowFtjkOnV0PDGRUWfnsvK4VOwoMydLWUomfyM93wzmkYH2oqgNx5NSLSqCwoa5HZ_KxBpxL8GxQN8uRRDtlp3SF7wcGYbFZFH_-wGv0M1O2KeXvqvdFVMbO6RtG-EVC107IWjfYnisZUkM8Ja7dYlgfg4vGCuvxwSpOugEk-_tMkYzsphay8tNHrgG3yrTaxohPhYsZbAYi0JYfNJnfnJYtEefnN4DdpWwdMTR43XXEBkaNd2LOQ028uNa_dzM7_uFvPdiDJR7PXxt-BCtPa8KomMuLBFrxIZKJqikEr2mcXIK48msRSqnv4NsCFrkm5g7s_Sge09Qq5EbIJAVAlOygWUQ0rMQIi9PF-V5XchFYE7NxNmbEEWkHF2jj0zT_kMkV88DczewQCR-WVi0n_305dr7FNXptxwcp7Nc6FBrRIG33V_jElFZ9O7HrCG67QwhPeYVes0O0e48_eWU6XRxbkezYrcKRLDy047B0SHj1Ng96rQxd_YKoFAAgRqMCNunHXMQHQ5OKQv8uF8GnQ7llWSeYGkR14TPX3tWV5Qxy0fsbd3nhuKIvQe69YToY7HH5zp3JHSFbFvzCqvlDe-d2oOp0QPzN0ox3WYd1tJS6GyQ-r161Rq-5kA3Vusn7LzIL1hFwlRAfxH3j9uaHg4INCKONjhLm5c_IS-Pi64UL_tjiJM36PrtNUaQcS8-6y6qtDblN_Zg0r79t3D6gZ6OybTyIR8lOupyUc1BJIe4Eg=s64",
      "userId": "16390917540151948122"
     },
     "user_tz": -330
    },
    "id": "RT3rZDZhBumg",
    "outputId": "1896c7e9-6420-49be-8698-f07ec17c44fe"
   },
   "outputs": [
    {
     "name": "stdout",
     "output_type": "stream",
     "text": [
      "[2802 1919 2084 ... 3783 4010 1294]\n"
     ]
    }
   ],
   "source": [
    "print(y)"
   ]
  },
  {
   "cell_type": "markdown",
   "metadata": {
    "id": "Bfz9vcDsm7r6"
   },
   "source": [
    "## Splitting data into Test set & Training Set\n"
   ]
  },
  {
   "cell_type": "code",
   "execution_count": 13,
   "metadata": {
    "executionInfo": {
     "elapsed": 1090,
     "status": "ok",
     "timestamp": 1611301546374,
     "user": {
      "displayName": "Atulya Kaushik",
      "photoUrl": "https://lh3.googleusercontent.com/a-/AOh14GgbdwwtUpDI6_ZCGNIh_WpVOrowFtjkOnV0PDGRUWfnsvK4VOwoMydLWUomfyM93wzmkYH2oqgNx5NSLSqCwoa5HZ_KxBpxL8GxQN8uRRDtlp3SF7wcGYbFZFH_-wGv0M1O2KeXvqvdFVMbO6RtG-EVC107IWjfYnisZUkM8Ja7dYlgfg4vGCuvxwSpOugEk-_tMkYzsphay8tNHrgG3yrTaxohPhYsZbAYi0JYfNJnfnJYtEefnN4DdpWwdMTR43XXEBkaNd2LOQ028uNa_dzM7_uFvPdiDJR7PXxt-BCtPa8KomMuLBFrxIZKJqikEr2mcXIK48msRSqnv4NsCFrkm5g7s_Sge09Qq5EbIJAVAlOygWUQ0rMQIi9PF-V5XchFYE7NxNmbEEWkHF2jj0zT_kMkV88DczewQCR-WVi0n_305dr7FNXptxwcp7Nc6FBrRIG33V_jElFZ9O7HrCG67QwhPeYVes0O0e48_eWU6XRxbkezYrcKRLDy047B0SHj1Ng96rQxd_YKoFAAgRqMCNunHXMQHQ5OKQv8uF8GnQ7llWSeYGkR14TPX3tWV5Qxy0fsbd3nhuKIvQe69YToY7HH5zp3JHSFbFvzCqvlDe-d2oOp0QPzN0ox3WYd1tJS6GyQ-r161Rq-5kA3Vusn7LzIL1hFwlRAfxH3j9uaHg4INCKONjhLm5c_IS-Pi64UL_tjiJM36PrtNUaQcS8-6y6qtDblN_Zg0r79t3D6gZ6OybTyIR8lOupyUc1BJIe4Eg=s64",
      "userId": "16390917540151948122"
     },
     "user_tz": -330
    },
    "id": "Ld4vnJbBC3sh"
   },
   "outputs": [],
   "source": [
    "from sklearn.model_selection import train_test_split\n",
    "X_train, X_test, y_train, y_test = train_test_split(X, y, test_size = 0.2, random_state = 42)"
   ]
  },
  {
   "cell_type": "code",
   "execution_count": 14,
   "metadata": {
    "colab": {
     "base_uri": "https://localhost:8080/"
    },
    "executionInfo": {
     "elapsed": 1106,
     "status": "ok",
     "timestamp": 1611301556521,
     "user": {
      "displayName": "Atulya Kaushik",
      "photoUrl": "https://lh3.googleusercontent.com/a-/AOh14GgbdwwtUpDI6_ZCGNIh_WpVOrowFtjkOnV0PDGRUWfnsvK4VOwoMydLWUomfyM93wzmkYH2oqgNx5NSLSqCwoa5HZ_KxBpxL8GxQN8uRRDtlp3SF7wcGYbFZFH_-wGv0M1O2KeXvqvdFVMbO6RtG-EVC107IWjfYnisZUkM8Ja7dYlgfg4vGCuvxwSpOugEk-_tMkYzsphay8tNHrgG3yrTaxohPhYsZbAYi0JYfNJnfnJYtEefnN4DdpWwdMTR43XXEBkaNd2LOQ028uNa_dzM7_uFvPdiDJR7PXxt-BCtPa8KomMuLBFrxIZKJqikEr2mcXIK48msRSqnv4NsCFrkm5g7s_Sge09Qq5EbIJAVAlOygWUQ0rMQIi9PF-V5XchFYE7NxNmbEEWkHF2jj0zT_kMkV88DczewQCR-WVi0n_305dr7FNXptxwcp7Nc6FBrRIG33V_jElFZ9O7HrCG67QwhPeYVes0O0e48_eWU6XRxbkezYrcKRLDy047B0SHj1Ng96rQxd_YKoFAAgRqMCNunHXMQHQ5OKQv8uF8GnQ7llWSeYGkR14TPX3tWV5Qxy0fsbd3nhuKIvQe69YToY7HH5zp3JHSFbFvzCqvlDe-d2oOp0QPzN0ox3WYd1tJS6GyQ-r161Rq-5kA3Vusn7LzIL1hFwlRAfxH3j9uaHg4INCKONjhLm5c_IS-Pi64UL_tjiJM36PrtNUaQcS8-6y6qtDblN_Zg0r79t3D6gZ6OybTyIR8lOupyUc1BJIe4Eg=s64",
      "userId": "16390917540151948122"
     },
     "user_tz": -330
    },
    "id": "rP7cBvClDnHk",
    "outputId": "e43dc399-7fa1-410b-f6ef-6f68c2211e54"
   },
   "outputs": [
    {
     "name": "stdout",
     "output_type": "stream",
     "text": [
      "[[0.000e+00 0.000e+00 1.000e+00 0.000e+00 0.000e+00 2.572e+03]\n",
      " [0.000e+00 1.000e+00 0.000e+00 0.000e+00 0.000e+00 2.078e+03]\n",
      " [0.000e+00 0.000e+00 0.000e+00 1.000e+00 0.000e+00 1.034e+03]\n",
      " ...\n",
      " [0.000e+00 0.000e+00 0.000e+00 0.000e+00 1.000e+00 5.226e+03]\n",
      " [0.000e+00 0.000e+00 0.000e+00 0.000e+00 1.000e+00 5.390e+03]\n",
      " [1.000e+00 0.000e+00 0.000e+00 0.000e+00 0.000e+00 8.600e+02]]\n"
     ]
    }
   ],
   "source": [
    "print(X_train)"
   ]
  },
  {
   "cell_type": "code",
   "execution_count": 15,
   "metadata": {
    "colab": {
     "base_uri": "https://localhost:8080/"
    },
    "executionInfo": {
     "elapsed": 1053,
     "status": "ok",
     "timestamp": 1611301570050,
     "user": {
      "displayName": "Atulya Kaushik",
      "photoUrl": "https://lh3.googleusercontent.com/a-/AOh14GgbdwwtUpDI6_ZCGNIh_WpVOrowFtjkOnV0PDGRUWfnsvK4VOwoMydLWUomfyM93wzmkYH2oqgNx5NSLSqCwoa5HZ_KxBpxL8GxQN8uRRDtlp3SF7wcGYbFZFH_-wGv0M1O2KeXvqvdFVMbO6RtG-EVC107IWjfYnisZUkM8Ja7dYlgfg4vGCuvxwSpOugEk-_tMkYzsphay8tNHrgG3yrTaxohPhYsZbAYi0JYfNJnfnJYtEefnN4DdpWwdMTR43XXEBkaNd2LOQ028uNa_dzM7_uFvPdiDJR7PXxt-BCtPa8KomMuLBFrxIZKJqikEr2mcXIK48msRSqnv4NsCFrkm5g7s_Sge09Qq5EbIJAVAlOygWUQ0rMQIi9PF-V5XchFYE7NxNmbEEWkHF2jj0zT_kMkV88DczewQCR-WVi0n_305dr7FNXptxwcp7Nc6FBrRIG33V_jElFZ9O7HrCG67QwhPeYVes0O0e48_eWU6XRxbkezYrcKRLDy047B0SHj1Ng96rQxd_YKoFAAgRqMCNunHXMQHQ5OKQv8uF8GnQ7llWSeYGkR14TPX3tWV5Qxy0fsbd3nhuKIvQe69YToY7HH5zp3JHSFbFvzCqvlDe-d2oOp0QPzN0ox3WYd1tJS6GyQ-r161Rq-5kA3Vusn7LzIL1hFwlRAfxH3j9uaHg4INCKONjhLm5c_IS-Pi64UL_tjiJM36PrtNUaQcS8-6y6qtDblN_Zg0r79t3D6gZ6OybTyIR8lOupyUc1BJIe4Eg=s64",
      "userId": "16390917540151948122"
     },
     "user_tz": -330
    },
    "id": "Vf-1vDU2DqgW",
    "outputId": "cc4933c2-31df-4cfa-ac3e-a6102cf73142"
   },
   "outputs": [
    {
     "name": "stdout",
     "output_type": "stream",
     "text": [
      "[[1.000e+00 0.000e+00 0.000e+00 0.000e+00 0.000e+00 3.166e+03]\n",
      " [0.000e+00 0.000e+00 1.000e+00 0.000e+00 0.000e+00 3.400e+03]\n",
      " [0.000e+00 0.000e+00 0.000e+00 0.000e+00 1.000e+00 8.000e+00]\n",
      " ...\n",
      " [0.000e+00 0.000e+00 0.000e+00 0.000e+00 1.000e+00 1.438e+03]\n",
      " [0.000e+00 0.000e+00 0.000e+00 0.000e+00 1.000e+00 5.261e+03]\n",
      " [0.000e+00 0.000e+00 0.000e+00 1.000e+00 0.000e+00 4.599e+03]]\n"
     ]
    }
   ],
   "source": [
    "print(X_test)"
   ]
  },
  {
   "cell_type": "code",
   "execution_count": 16,
   "metadata": {
    "colab": {
     "base_uri": "https://localhost:8080/"
    },
    "executionInfo": {
     "elapsed": 1072,
     "status": "ok",
     "timestamp": 1611301581004,
     "user": {
      "displayName": "Atulya Kaushik",
      "photoUrl": "https://lh3.googleusercontent.com/a-/AOh14GgbdwwtUpDI6_ZCGNIh_WpVOrowFtjkOnV0PDGRUWfnsvK4VOwoMydLWUomfyM93wzmkYH2oqgNx5NSLSqCwoa5HZ_KxBpxL8GxQN8uRRDtlp3SF7wcGYbFZFH_-wGv0M1O2KeXvqvdFVMbO6RtG-EVC107IWjfYnisZUkM8Ja7dYlgfg4vGCuvxwSpOugEk-_tMkYzsphay8tNHrgG3yrTaxohPhYsZbAYi0JYfNJnfnJYtEefnN4DdpWwdMTR43XXEBkaNd2LOQ028uNa_dzM7_uFvPdiDJR7PXxt-BCtPa8KomMuLBFrxIZKJqikEr2mcXIK48msRSqnv4NsCFrkm5g7s_Sge09Qq5EbIJAVAlOygWUQ0rMQIi9PF-V5XchFYE7NxNmbEEWkHF2jj0zT_kMkV88DczewQCR-WVi0n_305dr7FNXptxwcp7Nc6FBrRIG33V_jElFZ9O7HrCG67QwhPeYVes0O0e48_eWU6XRxbkezYrcKRLDy047B0SHj1Ng96rQxd_YKoFAAgRqMCNunHXMQHQ5OKQv8uF8GnQ7llWSeYGkR14TPX3tWV5Qxy0fsbd3nhuKIvQe69YToY7HH5zp3JHSFbFvzCqvlDe-d2oOp0QPzN0ox3WYd1tJS6GyQ-r161Rq-5kA3Vusn7LzIL1hFwlRAfxH3j9uaHg4INCKONjhLm5c_IS-Pi64UL_tjiJM36PrtNUaQcS8-6y6qtDblN_Zg0r79t3D6gZ6OybTyIR8lOupyUc1BJIe4Eg=s64",
      "userId": "16390917540151948122"
     },
     "user_tz": -330
    },
    "id": "fykcMDsNDtJA",
    "outputId": "8be38da7-228e-4ca7-ba16-329c61bda897"
   },
   "outputs": [
    {
     "name": "stdout",
     "output_type": "stream",
     "text": [
      "[2434  532 2091 ... 4006  439 2802]\n"
     ]
    }
   ],
   "source": [
    "print(y_train)"
   ]
  },
  {
   "cell_type": "code",
   "execution_count": 17,
   "metadata": {
    "colab": {
     "base_uri": "https://localhost:8080/"
    },
    "executionInfo": {
     "elapsed": 1097,
     "status": "ok",
     "timestamp": 1611301618726,
     "user": {
      "displayName": "Atulya Kaushik",
      "photoUrl": "https://lh3.googleusercontent.com/a-/AOh14GgbdwwtUpDI6_ZCGNIh_WpVOrowFtjkOnV0PDGRUWfnsvK4VOwoMydLWUomfyM93wzmkYH2oqgNx5NSLSqCwoa5HZ_KxBpxL8GxQN8uRRDtlp3SF7wcGYbFZFH_-wGv0M1O2KeXvqvdFVMbO6RtG-EVC107IWjfYnisZUkM8Ja7dYlgfg4vGCuvxwSpOugEk-_tMkYzsphay8tNHrgG3yrTaxohPhYsZbAYi0JYfNJnfnJYtEefnN4DdpWwdMTR43XXEBkaNd2LOQ028uNa_dzM7_uFvPdiDJR7PXxt-BCtPa8KomMuLBFrxIZKJqikEr2mcXIK48msRSqnv4NsCFrkm5g7s_Sge09Qq5EbIJAVAlOygWUQ0rMQIi9PF-V5XchFYE7NxNmbEEWkHF2jj0zT_kMkV88DczewQCR-WVi0n_305dr7FNXptxwcp7Nc6FBrRIG33V_jElFZ9O7HrCG67QwhPeYVes0O0e48_eWU6XRxbkezYrcKRLDy047B0SHj1Ng96rQxd_YKoFAAgRqMCNunHXMQHQ5OKQv8uF8GnQ7llWSeYGkR14TPX3tWV5Qxy0fsbd3nhuKIvQe69YToY7HH5zp3JHSFbFvzCqvlDe-d2oOp0QPzN0ox3WYd1tJS6GyQ-r161Rq-5kA3Vusn7LzIL1hFwlRAfxH3j9uaHg4INCKONjhLm5c_IS-Pi64UL_tjiJM36PrtNUaQcS8-6y6qtDblN_Zg0r79t3D6gZ6OybTyIR8lOupyUc1BJIe4Eg=s64",
      "userId": "16390917540151948122"
     },
     "user_tz": -330
    },
    "id": "bPLdwNWdD13h",
    "outputId": "751705f2-c109-46fc-d756-572ec9c952dd"
   },
   "outputs": [
    {
     "name": "stdout",
     "output_type": "stream",
     "text": [
      "[ 314 2147 3536 ... 4099 2283   50]\n"
     ]
    }
   ],
   "source": [
    "print(y_test)"
   ]
  },
  {
   "cell_type": "markdown",
   "metadata": {
    "id": "a5uoHf8MsQG0"
   },
   "source": [
    "## Feature Scaling"
   ]
  },
  {
   "cell_type": "code",
   "execution_count": 18,
   "metadata": {
    "executionInfo": {
     "elapsed": 1080,
     "status": "ok",
     "timestamp": 1611302274096,
     "user": {
      "displayName": "Atulya Kaushik",
      "photoUrl": "https://lh3.googleusercontent.com/a-/AOh14GgbdwwtUpDI6_ZCGNIh_WpVOrowFtjkOnV0PDGRUWfnsvK4VOwoMydLWUomfyM93wzmkYH2oqgNx5NSLSqCwoa5HZ_KxBpxL8GxQN8uRRDtlp3SF7wcGYbFZFH_-wGv0M1O2KeXvqvdFVMbO6RtG-EVC107IWjfYnisZUkM8Ja7dYlgfg4vGCuvxwSpOugEk-_tMkYzsphay8tNHrgG3yrTaxohPhYsZbAYi0JYfNJnfnJYtEefnN4DdpWwdMTR43XXEBkaNd2LOQ028uNa_dzM7_uFvPdiDJR7PXxt-BCtPa8KomMuLBFrxIZKJqikEr2mcXIK48msRSqnv4NsCFrkm5g7s_Sge09Qq5EbIJAVAlOygWUQ0rMQIi9PF-V5XchFYE7NxNmbEEWkHF2jj0zT_kMkV88DczewQCR-WVi0n_305dr7FNXptxwcp7Nc6FBrRIG33V_jElFZ9O7HrCG67QwhPeYVes0O0e48_eWU6XRxbkezYrcKRLDy047B0SHj1Ng96rQxd_YKoFAAgRqMCNunHXMQHQ5OKQv8uF8GnQ7llWSeYGkR14TPX3tWV5Qxy0fsbd3nhuKIvQe69YToY7HH5zp3JHSFbFvzCqvlDe-d2oOp0QPzN0ox3WYd1tJS6GyQ-r161Rq-5kA3Vusn7LzIL1hFwlRAfxH3j9uaHg4INCKONjhLm5c_IS-Pi64UL_tjiJM36PrtNUaQcS8-6y6qtDblN_Zg0r79t3D6gZ6OybTyIR8lOupyUc1BJIe4Eg=s64",
      "userId": "16390917540151948122"
     },
     "user_tz": -330
    },
    "id": "pE6_puPBEXjk"
   },
   "outputs": [
    {
     "ename": "ValueError",
     "evalue": "Found array with 0 feature(s) (shape=(4383, 0)) while a minimum of 1 is required by StandardScaler.",
     "output_type": "error",
     "traceback": [
      "\u001b[1;31m---------------------------------------------------------------------------\u001b[0m",
      "\u001b[1;31mValueError\u001b[0m                                Traceback (most recent call last)",
      "Cell \u001b[1;32mIn[18], line 3\u001b[0m\n\u001b[0;32m      1\u001b[0m \u001b[38;5;28;01mfrom\u001b[39;00m \u001b[38;5;21;01msklearn\u001b[39;00m\u001b[38;5;21;01m.\u001b[39;00m\u001b[38;5;21;01mpreprocessing\u001b[39;00m \u001b[38;5;28;01mimport\u001b[39;00m StandardScaler\n\u001b[0;32m      2\u001b[0m sc \u001b[38;5;241m=\u001b[39m StandardScaler()\n\u001b[1;32m----> 3\u001b[0m X_train[:, \u001b[38;5;241m6\u001b[39m:] \u001b[38;5;241m=\u001b[39m \u001b[43msc\u001b[49m\u001b[38;5;241;43m.\u001b[39;49m\u001b[43mfit_transform\u001b[49m\u001b[43m(\u001b[49m\u001b[43mX_train\u001b[49m\u001b[43m[\u001b[49m\u001b[43m:\u001b[49m\u001b[43m,\u001b[49m\u001b[43m \u001b[49m\u001b[38;5;241;43m6\u001b[39;49m\u001b[43m:\u001b[49m\u001b[43m]\u001b[49m\u001b[43m)\u001b[49m\n\u001b[0;32m      4\u001b[0m X_test[:, \u001b[38;5;241m6\u001b[39m:] \u001b[38;5;241m=\u001b[39m sc\u001b[38;5;241m.\u001b[39mfit_transform(X_test[:, \u001b[38;5;241m6\u001b[39m:])\n",
      "File \u001b[1;32mc:\\Users\\KIIT\\anaconda3\\envs\\myenv\\lib\\site-packages\\sklearn\\utils\\_set_output.py:157\u001b[0m, in \u001b[0;36m_wrap_method_output.<locals>.wrapped\u001b[1;34m(self, X, *args, **kwargs)\u001b[0m\n\u001b[0;32m    155\u001b[0m \u001b[38;5;129m@wraps\u001b[39m(f)\n\u001b[0;32m    156\u001b[0m \u001b[38;5;28;01mdef\u001b[39;00m \u001b[38;5;21mwrapped\u001b[39m(\u001b[38;5;28mself\u001b[39m, X, \u001b[38;5;241m*\u001b[39margs, \u001b[38;5;241m*\u001b[39m\u001b[38;5;241m*\u001b[39mkwargs):\n\u001b[1;32m--> 157\u001b[0m     data_to_wrap \u001b[38;5;241m=\u001b[39m \u001b[43mf\u001b[49m\u001b[43m(\u001b[49m\u001b[38;5;28;43mself\u001b[39;49m\u001b[43m,\u001b[49m\u001b[43m \u001b[49m\u001b[43mX\u001b[49m\u001b[43m,\u001b[49m\u001b[43m \u001b[49m\u001b[38;5;241;43m*\u001b[39;49m\u001b[43margs\u001b[49m\u001b[43m,\u001b[49m\u001b[43m \u001b[49m\u001b[38;5;241;43m*\u001b[39;49m\u001b[38;5;241;43m*\u001b[39;49m\u001b[43mkwargs\u001b[49m\u001b[43m)\u001b[49m\n\u001b[0;32m    158\u001b[0m     \u001b[38;5;28;01mif\u001b[39;00m \u001b[38;5;28misinstance\u001b[39m(data_to_wrap, \u001b[38;5;28mtuple\u001b[39m):\n\u001b[0;32m    159\u001b[0m         \u001b[38;5;66;03m# only wrap the first output for cross decomposition\u001b[39;00m\n\u001b[0;32m    160\u001b[0m         return_tuple \u001b[38;5;241m=\u001b[39m (\n\u001b[0;32m    161\u001b[0m             _wrap_data_with_container(method, data_to_wrap[\u001b[38;5;241m0\u001b[39m], X, \u001b[38;5;28mself\u001b[39m),\n\u001b[0;32m    162\u001b[0m             \u001b[38;5;241m*\u001b[39mdata_to_wrap[\u001b[38;5;241m1\u001b[39m:],\n\u001b[0;32m    163\u001b[0m         )\n",
      "File \u001b[1;32mc:\\Users\\KIIT\\anaconda3\\envs\\myenv\\lib\\site-packages\\sklearn\\base.py:916\u001b[0m, in \u001b[0;36mTransformerMixin.fit_transform\u001b[1;34m(self, X, y, **fit_params)\u001b[0m\n\u001b[0;32m    912\u001b[0m \u001b[38;5;66;03m# non-optimized default implementation; override when a better\u001b[39;00m\n\u001b[0;32m    913\u001b[0m \u001b[38;5;66;03m# method is possible for a given clustering algorithm\u001b[39;00m\n\u001b[0;32m    914\u001b[0m \u001b[38;5;28;01mif\u001b[39;00m y \u001b[38;5;129;01mis\u001b[39;00m \u001b[38;5;28;01mNone\u001b[39;00m:\n\u001b[0;32m    915\u001b[0m     \u001b[38;5;66;03m# fit method of arity 1 (unsupervised transformation)\u001b[39;00m\n\u001b[1;32m--> 916\u001b[0m     \u001b[38;5;28;01mreturn\u001b[39;00m \u001b[38;5;28;43mself\u001b[39;49m\u001b[38;5;241;43m.\u001b[39;49m\u001b[43mfit\u001b[49m\u001b[43m(\u001b[49m\u001b[43mX\u001b[49m\u001b[43m,\u001b[49m\u001b[43m \u001b[49m\u001b[38;5;241;43m*\u001b[39;49m\u001b[38;5;241;43m*\u001b[39;49m\u001b[43mfit_params\u001b[49m\u001b[43m)\u001b[49m\u001b[38;5;241m.\u001b[39mtransform(X)\n\u001b[0;32m    917\u001b[0m \u001b[38;5;28;01melse\u001b[39;00m:\n\u001b[0;32m    918\u001b[0m     \u001b[38;5;66;03m# fit method of arity 2 (supervised transformation)\u001b[39;00m\n\u001b[0;32m    919\u001b[0m     \u001b[38;5;28;01mreturn\u001b[39;00m \u001b[38;5;28mself\u001b[39m\u001b[38;5;241m.\u001b[39mfit(X, y, \u001b[38;5;241m*\u001b[39m\u001b[38;5;241m*\u001b[39mfit_params)\u001b[38;5;241m.\u001b[39mtransform(X)\n",
      "File \u001b[1;32mc:\\Users\\KIIT\\anaconda3\\envs\\myenv\\lib\\site-packages\\sklearn\\preprocessing\\_data.py:839\u001b[0m, in \u001b[0;36mStandardScaler.fit\u001b[1;34m(self, X, y, sample_weight)\u001b[0m\n\u001b[0;32m    837\u001b[0m \u001b[38;5;66;03m# Reset internal state before fitting\u001b[39;00m\n\u001b[0;32m    838\u001b[0m \u001b[38;5;28mself\u001b[39m\u001b[38;5;241m.\u001b[39m_reset()\n\u001b[1;32m--> 839\u001b[0m \u001b[38;5;28;01mreturn\u001b[39;00m \u001b[38;5;28;43mself\u001b[39;49m\u001b[38;5;241;43m.\u001b[39;49m\u001b[43mpartial_fit\u001b[49m\u001b[43m(\u001b[49m\u001b[43mX\u001b[49m\u001b[43m,\u001b[49m\u001b[43m \u001b[49m\u001b[43my\u001b[49m\u001b[43m,\u001b[49m\u001b[43m \u001b[49m\u001b[43msample_weight\u001b[49m\u001b[43m)\u001b[49m\n",
      "File \u001b[1;32mc:\\Users\\KIIT\\anaconda3\\envs\\myenv\\lib\\site-packages\\sklearn\\base.py:1152\u001b[0m, in \u001b[0;36m_fit_context.<locals>.decorator.<locals>.wrapper\u001b[1;34m(estimator, *args, **kwargs)\u001b[0m\n\u001b[0;32m   1145\u001b[0m     estimator\u001b[38;5;241m.\u001b[39m_validate_params()\n\u001b[0;32m   1147\u001b[0m \u001b[38;5;28;01mwith\u001b[39;00m config_context(\n\u001b[0;32m   1148\u001b[0m     skip_parameter_validation\u001b[38;5;241m=\u001b[39m(\n\u001b[0;32m   1149\u001b[0m         prefer_skip_nested_validation \u001b[38;5;129;01mor\u001b[39;00m global_skip_validation\n\u001b[0;32m   1150\u001b[0m     )\n\u001b[0;32m   1151\u001b[0m ):\n\u001b[1;32m-> 1152\u001b[0m     \u001b[38;5;28;01mreturn\u001b[39;00m \u001b[43mfit_method\u001b[49m\u001b[43m(\u001b[49m\u001b[43mestimator\u001b[49m\u001b[43m,\u001b[49m\u001b[43m \u001b[49m\u001b[38;5;241;43m*\u001b[39;49m\u001b[43margs\u001b[49m\u001b[43m,\u001b[49m\u001b[43m \u001b[49m\u001b[38;5;241;43m*\u001b[39;49m\u001b[38;5;241;43m*\u001b[39;49m\u001b[43mkwargs\u001b[49m\u001b[43m)\u001b[49m\n",
      "File \u001b[1;32mc:\\Users\\KIIT\\anaconda3\\envs\\myenv\\lib\\site-packages\\sklearn\\preprocessing\\_data.py:875\u001b[0m, in \u001b[0;36mStandardScaler.partial_fit\u001b[1;34m(self, X, y, sample_weight)\u001b[0m\n\u001b[0;32m    843\u001b[0m \u001b[38;5;250m\u001b[39m\u001b[38;5;124;03m\"\"\"Online computation of mean and std on X for later scaling.\u001b[39;00m\n\u001b[0;32m    844\u001b[0m \n\u001b[0;32m    845\u001b[0m \u001b[38;5;124;03mAll of X is processed as a single batch. This is intended for cases\u001b[39;00m\n\u001b[1;32m   (...)\u001b[0m\n\u001b[0;32m    872\u001b[0m \u001b[38;5;124;03m    Fitted scaler.\u001b[39;00m\n\u001b[0;32m    873\u001b[0m \u001b[38;5;124;03m\"\"\"\u001b[39;00m\n\u001b[0;32m    874\u001b[0m first_call \u001b[38;5;241m=\u001b[39m \u001b[38;5;129;01mnot\u001b[39;00m \u001b[38;5;28mhasattr\u001b[39m(\u001b[38;5;28mself\u001b[39m, \u001b[38;5;124m\"\u001b[39m\u001b[38;5;124mn_samples_seen_\u001b[39m\u001b[38;5;124m\"\u001b[39m)\n\u001b[1;32m--> 875\u001b[0m X \u001b[38;5;241m=\u001b[39m \u001b[38;5;28;43mself\u001b[39;49m\u001b[38;5;241;43m.\u001b[39;49m\u001b[43m_validate_data\u001b[49m\u001b[43m(\u001b[49m\n\u001b[0;32m    876\u001b[0m \u001b[43m    \u001b[49m\u001b[43mX\u001b[49m\u001b[43m,\u001b[49m\n\u001b[0;32m    877\u001b[0m \u001b[43m    \u001b[49m\u001b[43maccept_sparse\u001b[49m\u001b[38;5;241;43m=\u001b[39;49m\u001b[43m(\u001b[49m\u001b[38;5;124;43m\"\u001b[39;49m\u001b[38;5;124;43mcsr\u001b[39;49m\u001b[38;5;124;43m\"\u001b[39;49m\u001b[43m,\u001b[49m\u001b[43m \u001b[49m\u001b[38;5;124;43m\"\u001b[39;49m\u001b[38;5;124;43mcsc\u001b[39;49m\u001b[38;5;124;43m\"\u001b[39;49m\u001b[43m)\u001b[49m\u001b[43m,\u001b[49m\n\u001b[0;32m    878\u001b[0m \u001b[43m    \u001b[49m\u001b[43mdtype\u001b[49m\u001b[38;5;241;43m=\u001b[39;49m\u001b[43mFLOAT_DTYPES\u001b[49m\u001b[43m,\u001b[49m\n\u001b[0;32m    879\u001b[0m \u001b[43m    \u001b[49m\u001b[43mforce_all_finite\u001b[49m\u001b[38;5;241;43m=\u001b[39;49m\u001b[38;5;124;43m\"\u001b[39;49m\u001b[38;5;124;43mallow-nan\u001b[39;49m\u001b[38;5;124;43m\"\u001b[39;49m\u001b[43m,\u001b[49m\n\u001b[0;32m    880\u001b[0m \u001b[43m    \u001b[49m\u001b[43mreset\u001b[49m\u001b[38;5;241;43m=\u001b[39;49m\u001b[43mfirst_call\u001b[49m\u001b[43m,\u001b[49m\n\u001b[0;32m    881\u001b[0m \u001b[43m\u001b[49m\u001b[43m)\u001b[49m\n\u001b[0;32m    882\u001b[0m n_features \u001b[38;5;241m=\u001b[39m X\u001b[38;5;241m.\u001b[39mshape[\u001b[38;5;241m1\u001b[39m]\n\u001b[0;32m    884\u001b[0m \u001b[38;5;28;01mif\u001b[39;00m sample_weight \u001b[38;5;129;01mis\u001b[39;00m \u001b[38;5;129;01mnot\u001b[39;00m \u001b[38;5;28;01mNone\u001b[39;00m:\n",
      "File \u001b[1;32mc:\\Users\\KIIT\\anaconda3\\envs\\myenv\\lib\\site-packages\\sklearn\\base.py:605\u001b[0m, in \u001b[0;36mBaseEstimator._validate_data\u001b[1;34m(self, X, y, reset, validate_separately, cast_to_ndarray, **check_params)\u001b[0m\n\u001b[0;32m    603\u001b[0m         out \u001b[38;5;241m=\u001b[39m X, y\n\u001b[0;32m    604\u001b[0m \u001b[38;5;28;01melif\u001b[39;00m \u001b[38;5;129;01mnot\u001b[39;00m no_val_X \u001b[38;5;129;01mand\u001b[39;00m no_val_y:\n\u001b[1;32m--> 605\u001b[0m     out \u001b[38;5;241m=\u001b[39m \u001b[43mcheck_array\u001b[49m\u001b[43m(\u001b[49m\u001b[43mX\u001b[49m\u001b[43m,\u001b[49m\u001b[43m \u001b[49m\u001b[43minput_name\u001b[49m\u001b[38;5;241;43m=\u001b[39;49m\u001b[38;5;124;43m\"\u001b[39;49m\u001b[38;5;124;43mX\u001b[39;49m\u001b[38;5;124;43m\"\u001b[39;49m\u001b[43m,\u001b[49m\u001b[43m \u001b[49m\u001b[38;5;241;43m*\u001b[39;49m\u001b[38;5;241;43m*\u001b[39;49m\u001b[43mcheck_params\u001b[49m\u001b[43m)\u001b[49m\n\u001b[0;32m    606\u001b[0m \u001b[38;5;28;01melif\u001b[39;00m no_val_X \u001b[38;5;129;01mand\u001b[39;00m \u001b[38;5;129;01mnot\u001b[39;00m no_val_y:\n\u001b[0;32m    607\u001b[0m     out \u001b[38;5;241m=\u001b[39m _check_y(y, \u001b[38;5;241m*\u001b[39m\u001b[38;5;241m*\u001b[39mcheck_params)\n",
      "File \u001b[1;32mc:\\Users\\KIIT\\anaconda3\\envs\\myenv\\lib\\site-packages\\sklearn\\utils\\validation.py:976\u001b[0m, in \u001b[0;36mcheck_array\u001b[1;34m(array, accept_sparse, accept_large_sparse, dtype, order, copy, force_all_finite, ensure_2d, allow_nd, ensure_min_samples, ensure_min_features, estimator, input_name)\u001b[0m\n\u001b[0;32m    974\u001b[0m     n_features \u001b[38;5;241m=\u001b[39m array\u001b[38;5;241m.\u001b[39mshape[\u001b[38;5;241m1\u001b[39m]\n\u001b[0;32m    975\u001b[0m     \u001b[38;5;28;01mif\u001b[39;00m n_features \u001b[38;5;241m<\u001b[39m ensure_min_features:\n\u001b[1;32m--> 976\u001b[0m         \u001b[38;5;28;01mraise\u001b[39;00m \u001b[38;5;167;01mValueError\u001b[39;00m(\n\u001b[0;32m    977\u001b[0m             \u001b[38;5;124m\"\u001b[39m\u001b[38;5;124mFound array with \u001b[39m\u001b[38;5;132;01m%d\u001b[39;00m\u001b[38;5;124m feature(s) (shape=\u001b[39m\u001b[38;5;132;01m%s\u001b[39;00m\u001b[38;5;124m) while\u001b[39m\u001b[38;5;124m\"\u001b[39m\n\u001b[0;32m    978\u001b[0m             \u001b[38;5;124m\"\u001b[39m\u001b[38;5;124m a minimum of \u001b[39m\u001b[38;5;132;01m%d\u001b[39;00m\u001b[38;5;124m is required\u001b[39m\u001b[38;5;132;01m%s\u001b[39;00m\u001b[38;5;124m.\u001b[39m\u001b[38;5;124m\"\u001b[39m\n\u001b[0;32m    979\u001b[0m             \u001b[38;5;241m%\u001b[39m (n_features, array\u001b[38;5;241m.\u001b[39mshape, ensure_min_features, context)\n\u001b[0;32m    980\u001b[0m         )\n\u001b[0;32m    982\u001b[0m \u001b[38;5;28;01mif\u001b[39;00m copy:\n\u001b[0;32m    983\u001b[0m     \u001b[38;5;28;01mif\u001b[39;00m _is_numpy_namespace(xp):\n\u001b[0;32m    984\u001b[0m         \u001b[38;5;66;03m# only make a copy if `array` and `array_orig` may share memory`\u001b[39;00m\n",
      "\u001b[1;31mValueError\u001b[0m: Found array with 0 feature(s) (shape=(4383, 0)) while a minimum of 1 is required by StandardScaler."
     ]
    }
   ],
   "source": [
    "from sklearn.preprocessing import StandardScaler\n",
    "sc = StandardScaler()\n",
    "X_train[:, 6:] = sc.fit_transform(X_train[:, 6:])\n",
    "X_test[:, 6:] = sc.fit_transform(X_test[:, 6:])"
   ]
  },
  {
   "cell_type": "code",
   "execution_count": 63,
   "metadata": {
    "colab": {
     "base_uri": "https://localhost:8080/"
    },
    "executionInfo": {
     "elapsed": 1431,
     "status": "ok",
     "timestamp": 1611302285719,
     "user": {
      "displayName": "Atulya Kaushik",
      "photoUrl": "https://lh3.googleusercontent.com/a-/AOh14GgbdwwtUpDI6_ZCGNIh_WpVOrowFtjkOnV0PDGRUWfnsvK4VOwoMydLWUomfyM93wzmkYH2oqgNx5NSLSqCwoa5HZ_KxBpxL8GxQN8uRRDtlp3SF7wcGYbFZFH_-wGv0M1O2KeXvqvdFVMbO6RtG-EVC107IWjfYnisZUkM8Ja7dYlgfg4vGCuvxwSpOugEk-_tMkYzsphay8tNHrgG3yrTaxohPhYsZbAYi0JYfNJnfnJYtEefnN4DdpWwdMTR43XXEBkaNd2LOQ028uNa_dzM7_uFvPdiDJR7PXxt-BCtPa8KomMuLBFrxIZKJqikEr2mcXIK48msRSqnv4NsCFrkm5g7s_Sge09Qq5EbIJAVAlOygWUQ0rMQIi9PF-V5XchFYE7NxNmbEEWkHF2jj0zT_kMkV88DczewQCR-WVi0n_305dr7FNXptxwcp7Nc6FBrRIG33V_jElFZ9O7HrCG67QwhPeYVes0O0e48_eWU6XRxbkezYrcKRLDy047B0SHj1Ng96rQxd_YKoFAAgRqMCNunHXMQHQ5OKQv8uF8GnQ7llWSeYGkR14TPX3tWV5Qxy0fsbd3nhuKIvQe69YToY7HH5zp3JHSFbFvzCqvlDe-d2oOp0QPzN0ox3WYd1tJS6GyQ-r161Rq-5kA3Vusn7LzIL1hFwlRAfxH3j9uaHg4INCKONjhLm5c_IS-Pi64UL_tjiJM36PrtNUaQcS8-6y6qtDblN_Zg0r79t3D6gZ6OybTyIR8lOupyUc1BJIe4Eg=s64",
      "userId": "16390917540151948122"
     },
     "user_tz": -330
    },
    "id": "GL__8qhIGYxI",
    "outputId": "f9246833-4673-4044-f115-cf64b8643e54"
   },
   "outputs": [
    {
     "name": "stdout",
     "output_type": "stream",
     "text": [
      "[[1.0 0.0 0.0 86.0 'yes' 'yes' -0.9941858494300262]\n",
      " [0.0 1.0 0.0 35.0 'no' 'yes' 0.9574354145081888]\n",
      " [1.0 0.0 0.0 75.0 'no' 'yes' -0.9012515035282065]\n",
      " [1.0 0.0 0.0 42.0 'no' 'no' 0.9574354145081888]\n",
      " [1.0 0.0 0.0 74.0 'yes' 'yes' -0.6224484658227473]\n",
      " [1.0 0.0 0.0 62.0 'yes' 'yes' -1.2729888871354855]\n",
      " [0.0 1.0 0.0 24.0 'no' 'no' 0.9574354145081888]\n",
      " [0.0 1.0 0.0 48.0 'no' 'yes' 1.0503697604100086]\n",
      " [1.0 0.0 0.0 58.0 'no' 'no' -1.0871201953318461]\n",
      " [0.0 1.0 0.0 45.130434782608695 'yes' 'no' 0.7715667227045493]\n",
      " [0.0 1.0 0.0 15.0 'no' 'no' 0.9574354145081888]\n",
      " [0.0 0.0 1.0 70.0 'no' 'yes' 0.5856980309009098]\n",
      " [1.0 0.0 0.0 52.0 'yes' 'yes' -0.1577767363136484]\n",
      " [1.0 0.0 0.0 60.0 'yes' 'yes' -1.2729888871354855]\n",
      " [1.0 0.0 0.0 54.0 'yes' 'yes' -1.0871201953318461]\n",
      " [0.0 0.0 1.0 29.0 'no' 'no' 1.0503697604100086]\n",
      " [1.0 0.0 0.0 78.0 'yes' 'yes' -0.9941858494300262]\n",
      " [1.0 0.0 0.0 36.0 'yes' 'no' 0.7715667227045493]\n",
      " [0.0 1.0 0.0 30.0 'yes' 'no' 0.3998293390972702]\n",
      " [1.0 0.0 0.0 50.0 'yes' 'yes' -0.4365797740191077]\n",
      " [0.0 0.0 1.0 18.0 'no' 'no' 1.0503697604100086]\n",
      " [1.0 0.0 0.0 69.0 'no' 'yes' -2.667004075662782]\n",
      " [0.0 0.0 1.0 10.0 'no' 'no' 1.4221071440172877]\n",
      " [1.0 0.0 0.0 26.0 'no' 'no' 1.1433041063118283]\n",
      " [0.0 1.0 0.0 18.0 'no' 'no' -1.4588575789391252]\n",
      " [1.0 0.0 0.0 62.0 'yes' 'yes' -1.1800545412336658]\n",
      " [0.0 1.0 0.0 13.0 'no' 'no' 1.0503697604100086]\n",
      " [1.0 0.0 0.0 40.0 'no' 'no' 0.9574354145081888]\n",
      " [1.0 0.0 0.0 84.0 'yes' 'yes' -0.6224484658227473]\n",
      " [1.0 0.0 0.0 76.0 'yes' 'yes' -0.1577767363136484]\n",
      " [1.0 0.0 0.0 81.0 'yes' 'yes' -0.6224484658227473]\n",
      " [0.0 1.0 0.0 25.0 'no' 'no' 1.0503697604100086]\n",
      " [0.0 1.0 0.0 32.0 'no' 'yes' 0.21396064729363065]\n",
      " [1.0 0.0 0.0 56.0 'yes' 'yes' -0.4365797740191077]\n",
      " [0.0 1.0 0.0 35.0 'no' 'no' 0.6786323768027296]\n",
      " [1.0 0.0 0.0 63.0 'yes' 'yes' -1.4588575789391252]\n",
      " [0.0 0.0 1.0 28.0 'no' 'no' 0.6786323768027296]\n",
      " [1.0 0.0 0.0 56.0 'yes' 'no' -0.5295141199209275]\n",
      " [1.0 0.0 0.0 90.0 'yes' 'yes' -1.3659232330373055]\n",
      " [0.0 0.0 1.0 17.0 'no' 'no' 1.0503697604100086]\n",
      " [0.0 1.0 0.0 40.0 'no' 'yes' 0.7715667227045493]\n",
      " [0.0 1.0 0.0 61.0 'no' 'yes' 0.7715667227045493]\n",
      " [1.0 0.0 0.0 82.0 'yes' 'yes' -0.8083171576263868]\n",
      " [0.0 1.0 0.0 49.0 'no' 'no' -0.1577767363136484]\n",
      " [0.0 1.0 0.0 32.0 'no' 'no' 0.6786323768027296]\n",
      " [1.0 0.0 0.0 59.0 'no' 'yes' -1.1800545412336658]\n",
      " [1.0 0.0 0.0 86.0 'no' 'yes' -0.5295141199209275]\n",
      " [0.0 0.0 1.0 12.0 'no' 'no' 1.4221071440172877]\n",
      " [1.0 0.0 0.0 61.0 'yes' 'yes' -0.5295141199209275]\n",
      " [0.0 0.0 1.0 19.0 'no' 'no' 0.6786323768027296]\n",
      " [0.0 0.0 1.0 15.0 'no' 'no' 1.1433041063118283]\n",
      " [0.0 0.0 1.0 26.0 'no' 'no' 0.034826328381426956]\n",
      " [0.0 1.0 0.0 30.0 'no' 'no' -1.8305949625464042]\n",
      " [1.0 0.0 0.0 80.0 'no' 'yes' 0.9574354145081888]\n",
      " [0.0 0.0 1.0 20.0 'no' 'no' 0.9574354145081888]\n",
      " [1.0 0.0 0.0 64.0 'yes' 'yes' -0.8083171576263868]]\n"
     ]
    }
   ],
   "source": [
    "print(X_train)"
   ]
  }
 ],
 "metadata": {
  "colab": {
   "authorship_tag": "ABX9TyOt6xk9UMd/GwWEPGvvxJZv",
   "name": "Data Preprocessing Working Copy.ipynb",
   "provenance": [
    {
     "file_id": "1nEGJqEW-_F3aMMXY1s0E28eyody3vwoT",
     "timestamp": 1611144461754
    }
   ],
   "toc_visible": true
  },
  "kernelspec": {
   "display_name": "myenv",
   "language": "python",
   "name": "python3"
  },
  "language_info": {
   "codemirror_mode": {
    "name": "ipython",
    "version": 3
   },
   "file_extension": ".py",
   "mimetype": "text/x-python",
   "name": "python",
   "nbconvert_exporter": "python",
   "pygments_lexer": "ipython3",
   "version": "3.8.20"
  }
 },
 "nbformat": 4,
 "nbformat_minor": 0
}
